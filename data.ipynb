{
 "cells": [
  {
   "cell_type": "code",
   "execution_count": 1,
   "id": "21ca3a46-58f9-4b5b-ad19-d67942377708",
   "metadata": {},
   "outputs": [],
   "source": [
    "import numpy as np\n",
    "import pandas as pd\n",
    "import matplotlib.pyplot as plt\n",
    "%matplotlib inline\n",
    "from datetime import datetime"
   ]
  },
  {
   "cell_type": "code",
   "execution_count": 2,
   "id": "98ec14b7-3e94-408f-b637-c71993175cd5",
   "metadata": {},
   "outputs": [],
   "source": [
    "btc_usd = pd.read_csv(\"BTC-USD.csv\")\n",
    "btc_usd = btc_usd.loc[:,[\"Date\",\"Close\"]]\n",
    "btc_cad = pd.read_csv(\"BTC-CAD.csv\")\n",
    "btc_cad = btc_cad.loc[:,[\"Date\",\"Close\"]]\n",
    "btc_eur = pd.read_csv(\"BTC-EUR.csv\")\n",
    "btc_eur = btc_eur.loc[:,[\"Date\",\"Close\"]]\n",
    "btc_gbp = pd.read_csv(\"BTC-GBP.csv\")\n",
    "btc_gbp = btc_gbp.loc[:,[\"Date\",\"Close\"]]\n",
    "eur_cad = pd.read_csv(\"EUR-CAD.csv\")\n",
    "eur_cad = eur_cad.loc[:,[\"Date\",\"Close\"]]\n",
    "eur_gbp = pd.read_csv(\"EUR-GBP.csv\")\n",
    "eur_gbp = eur_gbp.loc[:,[\"Date\",\"Close\"]]\n",
    "eur_usd = pd.read_csv(\"EUR-USD.csv\")\n",
    "eur_usd = eur_usd.loc[:,[\"Date\",\"Close\"]]\n",
    "gbp_cad = pd.read_csv(\"GBP-CAD.csv\")\n",
    "gbp_cad = gbp_cad.loc[:,[\"Date\",\"Close\"]]\n",
    "gbp_usd = pd.read_csv(\"GBP-USD.csv\")\n",
    "gbp_usd = gbp_usd.loc[:,[\"Date\",\"Close\"]]\n",
    "cad_usd = pd.read_csv(\"CAD-USD.csv\")\n",
    "cad_usd = cad_usd.loc[:,[\"Date\",\"Close\"]]"
   ]
  },
  {
   "cell_type": "markdown",
   "id": "c329b72b-740e-448e-8521-12676e43cb4c",
   "metadata": {},
   "source": [
    "Section below will look at the influence of triangular arbitrage on cross-currency correlation. We will mainly focus on three currencies: USD, GBP, and BTC."
   ]
  },
  {
   "cell_type": "markdown",
   "id": "a826943d-6383-4402-9357-80dcdad1bd50",
   "metadata": {},
   "source": [
    "We will look at the possibility of same direction movement of two markets. If for the majority of time they move in the same direction, we may conclude that they tend to be more closely correlated. "
   ]
  },
  {
   "cell_type": "code",
   "execution_count": 6,
   "id": "244f4d0d-b157-4f9b-987c-1f289a663d3f",
   "metadata": {},
   "outputs": [],
   "source": [
    "same = 0\n",
    "for i in range(len(btc_usd[\"Close\"])-1):\n",
    "    if (btc_usd[\"Close\"][i] < btc_usd[\"Close\"][i + 1]) and (btc_gbp[\"Close\"][i] < btc_gbp[\"Close\"][i + 1]):\n",
    "        same = same + 1\n",
    "    elif (btc_usd[\"Close\"][i] > btc_usd[\"Close\"][i + 1]) and (btc_gbp[\"Close\"][i] > btc_gbp[\"Close\"][i + 1]):\n",
    "        same = same + 1\n",
    "samee = same/len(btc_usd[\"Close\"])"
   ]
  },
  {
   "cell_type": "code",
   "execution_count": 8,
   "id": "87289bc2-fc6d-4ef4-b119-cbc8d49c9200",
   "metadata": {},
   "outputs": [
    {
     "data": {
      "text/plain": [
       "<BarContainer object of 2 artists>"
      ]
     },
     "execution_count": 8,
     "metadata": {},
     "output_type": "execute_result"
    },
    {
     "data": {
      "image/png": "[encoded data removed]",
      "text/plain": [
       "<Figure size 432x288 with 1 Axes>"
      ]
     },
     "metadata": {
      "needs_background": "light"
     },
     "output_type": "display_data"
    }
   ],
   "source": [
    "plt.bar([\"Same\",\"Different\"],[samee,1-samee])"
   ]
  },
  {
   "cell_type": "code",
   "execution_count": 9,
   "id": "cd9b7f6d-6025-40e2-bbce-a3c70e668bb7",
   "metadata": {},
   "outputs": [
    {
     "data": {
      "text/plain": [
       "<BarContainer object of 2 artists>"
      ]
     },
     "execution_count": 9,
     "metadata": {},
     "output_type": "execute_result"
    },
    {
     "data": {
      "image/png": "[encoded data removed]",
      "text/plain": [
       "<Figure size 432x288 with 1 Axes>"
      ]
     },
     "metadata": {
      "needs_background": "light"
     },
     "output_type": "display_data"
    }
   ],
   "source": [
    "same = 0\n",
    "for i in range(len(gbp_usd[\"Close\"])-1):\n",
    "    if (btc_usd[\"Close\"][i] <= btc_usd[\"Close\"][i + 1]) and (gbp_usd[\"Close\"][i] <= gbp_usd[\"Close\"][i + 1]):\n",
    "        same = same + 1\n",
    "    elif (btc_usd[\"Close\"][i] >= btc_usd[\"Close\"][i + 1]) and (gbp_usd[\"Close\"][i] >= gbp_usd[\"Close\"][i + 1]):\n",
    "        same = same + 1\n",
    "samee = same/len(btc_usd[\"Close\"])\n",
    "plt.bar([\"Same\",\"Different\"],[samee,1-samee])"
   ]
  },
  {
   "cell_type": "markdown",
   "id": "0bfa0e8f-f9a3-4568-b94d-132a4bafbe17",
   "metadata": {},
   "source": [
    "Then we look at movements in btc_gbp and gbp_usd market. Since btc_gbp indicates the price of btc in gbp while gbp_usd represents the price of gbp in usd. The same movement in two indices represents an opposite movement of price of gbp in two markets.Therefore, when calculate proportion of same direction movement, we need to take the compliment. "
   ]
  },
  {
   "cell_type": "code",
   "execution_count": 11,
   "id": "d10148dc-d55c-4cf9-8430-2d20a2d3b2f9",
   "metadata": {},
   "outputs": [
    {
     "data": {
      "text/plain": [
       "Text(0.5, 1.0, 'possibility of same vs opposite movement in btc_gbp/gbp_usd market')"
      ]
     },
     "execution_count": 11,
     "metadata": {},
     "output_type": "execute_result"
    },
    {
     "data": {
      "image/png": "[encoded data removed]",
      "text/plain": [
       "<Figure size 432x288 with 1 Axes>"
      ]
     },
     "metadata": {
      "needs_background": "light"
     },
     "output_type": "display_data"
    }
   ],
   "source": [
    "same = 0\n",
    "for i in range(len(gbp_usd[\"Close\"])-1):\n",
    "    if (btc_gbp[\"Close\"][i] <= btc_gbp[\"Close\"][i + 1]) and (gbp_usd[\"Close\"][i] <= gbp_usd[\"Close\"][i + 1]):\n",
    "        same = same + 1\n",
    "    elif (btc_gbp[\"Close\"][i] >= btc_gbp[\"Close\"][i + 1]) and (gbp_usd[\"Close\"][i] >= gbp_usd[\"Close\"][i + 1]):\n",
    "        same = same + 1\n",
    "samee = 1-same/len(btc_usd[\"Close\"])\n",
    "plt.bar([\"Same\",\"Different\"],[samee,1-samee])\n",
    "plt.title(\"possibility of same vs opposite movement in btc_gbp/gbp_usd market\")"
   ]
  },
  {
   "cell_type": "markdown",
   "id": "e61510d2-4278-46bb-abeb-006fcfa07849",
   "metadata": {},
   "source": [
    "Then we use df.corr function to calculate the correlation between those three currencies."
   ]
  },
  {
   "cell_type": "code",
   "execution_count": 12,
   "id": "c0388489-60eb-463f-9c05-89eb210b2840",
   "metadata": {},
   "outputs": [],
   "source": [
    "df = pd.DataFrame({\"btc_usd\":btc_usd[\"Close\"],\"btc_gbp\":btc_gbp[\"Close\"],\"gbp_usd\":gbp_usd[\"Close\"]})"
   ]
  },
  {
   "cell_type": "code",
   "execution_count": 13,
   "id": "c3e7c37c-341e-4ca7-a3e3-1d3ab8eff9f0",
   "metadata": {},
   "outputs": [
    {
     "data": {
      "text/html": [
       "<div>\n",
       "<style scoped>\n",
       "    .dataframe tbody tr th:only-of-type {\n",
       "        vertical-align: middle;\n",
       "    }\n",
       "\n",
       "    .dataframe tbody tr th {\n",
       "        vertical-align: top;\n",
       "    }\n",
       "\n",
       "    .dataframe thead th {\n",
       "        text-align: right;\n",
       "    }\n",
       "</style>\n",
       "<table border=\"1\" class=\"dataframe\">\n",
       "  <thead>\n",
       "    <tr style=\"text-align: right;\">\n",
       "      <th></th>\n",
       "      <th>btc_usd</th>\n",
       "      <th>btc_gbp</th>\n",
       "      <th>gbp_usd</th>\n",
       "    </tr>\n",
       "  </thead>\n",
       "  <tbody>\n",
       "    <tr>\n",
       "      <th>btc_usd</th>\n",
       "      <td>1.000000</td>\n",
       "      <td>0.998515</td>\n",
       "      <td>0.183199</td>\n",
       "    </tr>\n",
       "    <tr>\n",
       "      <th>btc_gbp</th>\n",
       "      <td>0.998515</td>\n",
       "      <td>1.000000</td>\n",
       "      <td>0.187234</td>\n",
       "    </tr>\n",
       "    <tr>\n",
       "      <th>gbp_usd</th>\n",
       "      <td>0.183199</td>\n",
       "      <td>0.187234</td>\n",
       "      <td>1.000000</td>\n",
       "    </tr>\n",
       "  </tbody>\n",
       "</table>\n",
       "</div>"
      ],
      "text/plain": [
       "          btc_usd   btc_gbp   gbp_usd\n",
       "btc_usd  1.000000  0.998515  0.183199\n",
       "btc_gbp  0.998515  1.000000  0.187234\n",
       "gbp_usd  0.183199  0.187234  1.000000"
      ]
     },
     "execution_count": 13,
     "metadata": {},
     "output_type": "execute_result"
    }
   ],
   "source": [
    "df.corr()"
   ]
  },
  {
   "cell_type": "markdown",
   "id": "7a0e082b-17f5-42f7-922d-2276ad5f1204",
   "metadata": {},
   "source": [
    "From graphs and calculation above, there seems to be a strong correlation between btc_usd and btc_gbp but weaker correlation between btc_gbp and gbp_usd and gbp_usd with btc_usd, which may imply possibility in arbitrage as the price of usd or gbp has the possibility to change differently in these two markets."
   ]
  },
  {
   "cell_type": "code",
   "execution_count": 9,
   "id": "0314e5c5-1dfb-4cfd-a66b-0cb0c5f097fc",
   "metadata": {},
   "outputs": [],
   "source": [
    "def create_exchange_table(date):\n",
    "  \"\"\"\n",
    "  Contains exchange rates between the following currencies:\n",
    "  Bitcoin, USD, Canadian Dollar, GBP, Euro\n",
    "  \"\"\"\n",
    "  currencies = np.array([\"usd\", \"btc\", \"cad\", \"gbp\", \"eur\"])\n",
    "  table_data = np.array([])\n",
    "  for currency in currencies:\n",
    "    new_row = np.array([convert_currency(currency, other, date) for other in currencies])\n",
    "    if table_data.size == 0:\n",
    "      table_data = np.array([new_row])\n",
    "    else:\n",
    "      table_data = np.vstack([table_data, new_row])\n",
    "  return table_data\n",
    "\n",
    "\n",
    "def convert_currency(curr1, curr2, date):\n",
    "  \"\"\"\n",
    "  Converts from one currency to another by giving the exchange rate\n",
    "  at a particular date\n",
    "  \"\"\"\n",
    "  if curr1 == curr2:\n",
    "    return 0\n",
    "  try:\n",
    "    name = curr1 + \"_\" + curr2\n",
    "    table = eval(name)\n",
    "    eq_to_date = table[\"Date\"] == date\n",
    "    return table[eq_to_date][\"Close\"].to_numpy().item(0)\n",
    "  except NameError as err:\n",
    "    name = curr2 + \"_\" + curr1\n",
    "    table = eval(name)\n",
    "    eq_to_date = table[\"Date\"] == date\n",
    "    return 1 / table[eq_to_date][\"Close\"].to_numpy().item(0)"
   ]
  },
  {
   "cell_type": "code",
   "execution_count": 12,
   "id": "23c4e194-7c4f-4fb8-a0bc-6bac6f762851",
   "metadata": {},
   "outputs": [],
   "source": [
    "mat = create_exchange_table(\"2020-11-30\")"
   ]
  },
  {
   "cell_type": "code",
   "execution_count": 11,
   "id": "df538e79-543f-430a-b3eb-642af199a1e3",
   "metadata": {},
   "outputs": [],
   "source": [
    "def karp_algorithm(g, n):\n",
    "  \"\"\"\n",
    "  Implementation of Karp's algorithm to find the cycle in the graph with\n",
    "  maximum normalized wieght.\n",
    "  \"\"\"\n",
    "\n",
    "  # create V matrix\n",
    "  identity = construct_identity(n)\n",
    "  v_zero = identity[:, 2]\n",
    "  V = np.array([v_zero])\n",
    "  for i in range(1, n):\n",
    "    new_vec = tropical_matmul(g, V[i - 1])\n",
    "    V = np.vstack([V, new_vec])\n",
    "  V = V.T\n",
    "\n",
    "  # take appropriate max and min values and return result\n",
    "  return max([min([(V[i][n - 1] - V[i][j]) / (n - 1 - j) for j in range(len(V[0]))]) for i in range(len(V))])\n",
    "\n",
    "def construct_identity(size):\n",
    "  \"\"\"\n",
    "  Helper function that constructs an identity matrix\n",
    "  that supports tropical algebraic operations.\n",
    "  \"\"\"\n",
    "  identity = np.full((size, size), -float('inf'))\n",
    "  for i in range(size):\n",
    "    identity[i][i] = 0\n",
    "  return identity\n",
    "\n",
    "\n",
    "def tropical_matmul(mat, vec):\n",
    "  \"\"\"\n",
    "  Matrix multiplication using tropical addition and multiplication\n",
    "  instead of standard arithmetic operations.\n",
    "  \"\"\"\n",
    "  new_vec = np.array([])\n",
    "  for i in range(len(mat)):\n",
    "    new_vec = np.append(new_vec, tropical_dot(mat[i], vec))\n",
    "  return new_vec\n",
    "\n",
    "\n",
    "def tropical_dot(vec1, vec2):\n",
    "  \"\"\"\n",
    "  Dot product using tropical algebra\n",
    "  \"\"\"\n",
    "  total = []\n",
    "  for i in range(len(vec1)):\n",
    "    total.append(tropical_mult(vec1[i], vec2[i]))\n",
    "  return tropical_add(*total)\n",
    "\n",
    "def tropical_add(*args):\n",
    "  \"\"\"\n",
    "  Addition using tropical algebra\n",
    "  \"\"\"\n",
    "  return max(args)\n",
    "\n",
    "def tropical_mult(a, b):\n",
    "  \"\"\"\n",
    "  Multiplication using tropical algebra\n",
    "  \"\"\"\n",
    "  return a + b\n"
   ]
  },
  {
   "cell_type": "code",
   "execution_count": 14,
   "id": "1555a8b5-4362-485b-a284-1514ae6c1f9d",
   "metadata": {},
   "outputs": [
    {
     "name": "stderr",
     "output_type": "stream",
     "text": [
      "<ipython-input-11-41aab08a610d>:17: RuntimeWarning: invalid value encountered in double_scalars\n",
      "  return max([min([(V[i][n - 1] - V[i][j]) / (n - 1 - j) for j in range(len(V[0]))]) for i in range(len(V))])\n"
     ]
    },
    {
     "data": {
      "text/plain": [
       "12749.177754109109"
      ]
     },
     "execution_count": 14,
     "metadata": {},
     "output_type": "execute_result"
    }
   ],
   "source": [
    "karp_algorithm(mat,5)"
   ]
  },
  {
   "cell_type": "code",
   "execution_count": null,
   "id": "154e0772-54f5-473a-bdc3-1392b7c31936",
   "metadata": {},
   "outputs": [],
   "source": []
  }
 ],
 "metadata": {
  "kernelspec": {
   "display_name": "Python 3",
   "language": "python",
   "name": "python3"
  },
  "language_info": {
   "codemirror_mode": {
    "name": "ipython",
    "version": 3
   },
   "file_extension": ".py",
   "mimetype": "text/x-python",
   "name": "python",
   "nbconvert_exporter": "python",
   "pygments_lexer": "ipython3",
   "version": "3.8.8"
  }
 },
 "nbformat": 4,
 "nbformat_minor": 5
}
