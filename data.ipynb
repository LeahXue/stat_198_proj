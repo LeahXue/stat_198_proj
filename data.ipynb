{
 "cells": [
  {
   "cell_type": "code",
   "execution_count": 2,
   "id": "21ca3a46-58f9-4b5b-ad19-d67942377708",
   "metadata": {},
   "outputs": [],
   "source": [
    "import numpy as np\n",
    "import pandas as pd\n",
    "import matplotlib.pyplot as plt\n",
    "%matplotlib inline\n",
    "from datetime import datetime"
   ]
  },
  {
   "cell_type": "code",
   "execution_count": 5,
   "id": "98ec14b7-3e94-408f-b637-c71993175cd5",
   "metadata": {},
   "outputs": [],
   "source": [
    "btc_usd = pd.read_csv(\"BTC-USD.csv\").loc[:,\"Close\"]\n",
    "btc_cad = pd.read_csv(\"BTC-CAD.csv\").loc[:,\"\"]\n",
    "btc_eur = pd.read_csv(\"BTC-EUR.csv\")\n",
    "btc_gbp = pd.read_csv(\"BTC-GBP.csv\")\n",
    "eur_cad = pd.read_csv(\"EUR-CAD.csv\")\n",
    "eur_gbp = pd.read_csv(\"EUR-GBP.csv\")\n",
    "eur_usd = pd.read_csv(\"EUR-USD.csv\")\n",
    "gbp_cad = pd.read_csv(\"GBP-CAD.csv\")\n",
    "gbp_usd = pd.read_csv(\"GBP-USD.csv\")\n",
    "cad_usd = pd.read_csv(\"CAD-USD.csv\")"
   ]
  },
  {
   "cell_type": "code",
   "execution_count": 6,
   "id": "c5c8fa5e-2393-4257-981f-3774c8a9b130",
   "metadata": {},
   "outputs": [
    {
     "data": {
      "text/html": [
       "<div>\n",
       "<style scoped>\n",
       "    .dataframe tbody tr th:only-of-type {\n",
       "        vertical-align: middle;\n",
       "    }\n",
       "\n",
       "    .dataframe tbody tr th {\n",
       "        vertical-align: top;\n",
       "    }\n",
       "\n",
       "    .dataframe thead th {\n",
       "        text-align: right;\n",
       "    }\n",
       "</style>\n",
       "<table border=\"1\" class=\"dataframe\">\n",
       "  <thead>\n",
       "    <tr style=\"text-align: right;\">\n",
       "      <th></th>\n",
       "      <th>Date</th>\n",
       "      <th>Open</th>\n",
       "      <th>High</th>\n",
       "      <th>Low</th>\n",
       "      <th>Close</th>\n",
       "      <th>Adj Close</th>\n",
       "      <th>Volume</th>\n",
       "    </tr>\n",
       "  </thead>\n",
       "  <tbody>\n",
       "    <tr>\n",
       "      <th>0</th>\n",
       "      <td>2020-11-29</td>\n",
       "      <td>17719.634766</td>\n",
       "      <td>18283.628906</td>\n",
       "      <td>17559.117188</td>\n",
       "      <td>18177.484375</td>\n",
       "      <td>18177.484375</td>\n",
       "      <td>31133957704</td>\n",
       "    </tr>\n",
       "    <tr>\n",
       "      <th>1</th>\n",
       "      <td>2020-11-30</td>\n",
       "      <td>18178.322266</td>\n",
       "      <td>19749.263672</td>\n",
       "      <td>18178.322266</td>\n",
       "      <td>19625.835938</td>\n",
       "      <td>19625.835938</td>\n",
       "      <td>47728480399</td>\n",
       "    </tr>\n",
       "    <tr>\n",
       "      <th>2</th>\n",
       "      <td>2020-12-01</td>\n",
       "      <td>19633.769531</td>\n",
       "      <td>19845.974609</td>\n",
       "      <td>18321.921875</td>\n",
       "      <td>18802.998047</td>\n",
       "      <td>18802.998047</td>\n",
       "      <td>49633658712</td>\n",
       "    </tr>\n",
       "    <tr>\n",
       "      <th>3</th>\n",
       "      <td>2020-12-02</td>\n",
       "      <td>18801.744141</td>\n",
       "      <td>19308.330078</td>\n",
       "      <td>18347.718750</td>\n",
       "      <td>19201.091797</td>\n",
       "      <td>19201.091797</td>\n",
       "      <td>37387697139</td>\n",
       "    </tr>\n",
       "    <tr>\n",
       "      <th>4</th>\n",
       "      <td>2020-12-03</td>\n",
       "      <td>19205.925781</td>\n",
       "      <td>19566.191406</td>\n",
       "      <td>18925.785156</td>\n",
       "      <td>19445.398438</td>\n",
       "      <td>19445.398438</td>\n",
       "      <td>31930317405</td>\n",
       "    </tr>\n",
       "  </tbody>\n",
       "</table>\n",
       "</div>"
      ],
      "text/plain": [
       "         Date          Open          High           Low         Close  \\\n",
       "0  2020-11-29  17719.634766  18283.628906  17559.117188  18177.484375   \n",
       "1  2020-11-30  18178.322266  19749.263672  18178.322266  19625.835938   \n",
       "2  2020-12-01  19633.769531  19845.974609  18321.921875  18802.998047   \n",
       "3  2020-12-02  18801.744141  19308.330078  18347.718750  19201.091797   \n",
       "4  2020-12-03  19205.925781  19566.191406  18925.785156  19445.398438   \n",
       "\n",
       "      Adj Close       Volume  \n",
       "0  18177.484375  31133957704  \n",
       "1  19625.835938  47728480399  \n",
       "2  18802.998047  49633658712  \n",
       "3  19201.091797  37387697139  \n",
       "4  19445.398438  31930317405  "
      ]
     },
     "execution_count": 6,
     "metadata": {},
     "output_type": "execute_result"
    }
   ],
   "source": [
    "btc_usd.head()"
   ]
  },
  {
   "cell_type": "code",
   "execution_count": null,
   "id": "003d1543-ecbe-4566-8db1-7073cfdb8dca",
   "metadata": {},
   "outputs": [],
   "source": []
  }
 ],
 "metadata": {
  "kernelspec": {
   "display_name": "Python 3",
   "language": "python",
   "name": "python3"
  },
  "language_info": {
   "codemirror_mode": {
    "name": "ipython",
    "version": 3
   },
   "file_extension": ".py",
   "mimetype": "text/x-python",
   "name": "python",
   "nbconvert_exporter": "python",
   "pygments_lexer": "ipython3",
   "version": "3.8.8"
  }
 },
 "nbformat": 4,
 "nbformat_minor": 5
}
