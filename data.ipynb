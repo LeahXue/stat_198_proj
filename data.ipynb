{
 "cells": [
  {
   "cell_type": "code",
   "execution_count": 2,
   "id": "21ca3a46-58f9-4b5b-ad19-d67942377708",
   "metadata": {},
   "outputs": [],
   "source": [
    "import numpy as np\n",
    "import pandas as pd\n",
    "import matplotlib.pyplot as plt\n",
    "%matplotlib inline\n",
    "from datetime import datetime"
   ]
  },
  {
   "cell_type": "code",
   "execution_count": 18,
   "id": "98ec14b7-3e94-408f-b637-c71993175cd5",
   "metadata": {},
   "outputs": [],
   "source": [
    "btc_usd = pd.read_csv(\"BTC-USD.csv\")\n",
    "btc_usd = btc_usd.loc[:,[\"Date\",\"Close\"]]\n",
    "btc_cad = pd.read_csv(\"BTC-CAD.csv\")\n",
    "btc_cad = btc_cad.loc[:,[\"Date\",\"Close\"]]\n",
    "btc_eur = pd.read_csv(\"BTC-EUR.csv\")\n",
    "btc_eur = btc_eur.loc[:,[\"Date\",\"Close\"]]\n",
    "btc_gbp = pd.read_csv(\"BTC-GBP.csv\")\n",
    "btc_gbp = btc_gbp.loc[:,[\"Date\",\"Close\"]]\n",
    "eur_cad = pd.read_csv(\"EUR-CAD.csv\")\n",
    "eur_cad = eur_cad.loc[:,[\"Date\",\"Close\"]]\n",
    "eur_gbp = pd.read_csv(\"EUR-GBP.csv\")\n",
    "eur_gbp = eur_gbp.loc[:,[\"Date\",\"Close\"]]\n",
    "eur_usd = pd.read_csv(\"EUR-USD.csv\")\n",
    "eur_usd = eur_usd.loc[:,[\"Date\",\"Close\"]]\n",
    "gbp_cad = pd.read_csv(\"GBP-CAD.csv\")\n",
    "gbp_cad = gbp_cad.loc[:,[\"Date\",\"Close\"]]\n",
    "gbp_usd = pd.read_csv(\"GBP-USD.csv\")\n",
    "gbp_usd = gbp_usd.loc[:,[\"Date\",\"Close\"]]\n",
    "cad_usd = pd.read_csv(\"CAD-USD.csv\")\n",
    "cad_usd = cad_usd.loc[:,[\"Date\",\"Close\"]]"
   ]
  },
  {
   "cell_type": "markdown",
   "id": "c329b72b-740e-448e-8521-12676e43cb4c",
   "metadata": {},
   "source": [
    "Section below will look at the influence of triangular arbitrage on cross-currency correlation. We will mainly focus on three currencies: USD, GBP, and BTC."
   ]
  },
  {
   "cell_type": "code",
   "execution_count": 33,
   "id": "244f4d0d-b157-4f9b-987c-1f289a663d3f",
   "metadata": {},
   "outputs": [
    {
     "data": {
      "text/plain": [
       "0.9754098360655737"
      ]
     },
     "execution_count": 33,
     "metadata": {},
     "output_type": "execute_result"
    }
   ],
   "source": [
    "same = 0\n",
    "for i in range(len(btc_usd[\"Close\"])-1):\n",
    "    if (btc_usd[\"Close\"][i] < btc_usd[\"Close\"][i + 1]) and (btc_gbp[\"Close\"][i] < btc_gbp[\"Close\"][i + 1]):\n",
    "        same = same + 1\n",
    "    elif (btc_usd[\"Close\"][i] > btc_usd[\"Close\"][i + 1]) and (btc_gbp[\"Close\"][i] > btc_gbp[\"Close\"][i + 1]):\n",
    "        same = same + 1\n",
    "same/len(btc_usd[\"Close\"])"
   ]
  },
  {
   "cell_type": "code",
   "execution_count": 65,
   "id": "cd9b7f6d-6025-40e2-bbce-a3c70e668bb7",
   "metadata": {},
   "outputs": [
    {
     "data": {
      "text/plain": [
       "0.6557377049180327"
      ]
     },
     "execution_count": 65,
     "metadata": {},
     "output_type": "execute_result"
    }
   ],
   "source": [
    "same = 0\n",
    "for i in range(len(gbp_usd[\"Close\"])-1):\n",
    "    if (btc_usd[\"Close\"][i] <= btc_usd[\"Close\"][i + 1]) and (gbp_usd[\"Close\"][i] <= gbp_usd[\"Close\"][i + 1]):\n",
    "        same = same + 1\n",
    "    elif (btc_usd[\"Close\"][i] >= btc_usd[\"Close\"][i + 1]) and (gbp_usd[\"Close\"][i] >= gbp_usd[\"Close\"][i + 1]):\n",
    "        same = same + 1\n",
    "same/len(btc_usd[\"Close\"])"
   ]
  },
  {
   "cell_type": "code",
   "execution_count": 68,
   "id": "d10148dc-d55c-4cf9-8430-2d20a2d3b2f9",
   "metadata": {},
   "outputs": [
    {
     "data": {
      "text/plain": [
       "0.3415300546448088"
      ]
     },
     "execution_count": 68,
     "metadata": {},
     "output_type": "execute_result"
    }
   ],
   "source": [
    "same = 0\n",
    "for i in range(len(gbp_usd[\"Close\"])-1):\n",
    "    if (btc_gbp[\"Close\"][i] <= btc_gbp[\"Close\"][i + 1]) and (gbp_usd[\"Close\"][i] <= gbp_usd[\"Close\"][i + 1]):\n",
    "        same = same + 1\n",
    "    elif (btc_gbp[\"Close\"][i] >= btc_gbp[\"Close\"][i + 1]) and (gbp_usd[\"Close\"][i] >= gbp_usd[\"Close\"][i + 1]):\n",
    "        same = same + 1\n",
    "1-same/len(btc_usd[\"Close\"])"
   ]
  },
  {
   "cell_type": "code",
   "execution_count": null,
   "id": "dbb4d118-24a4-4606-a69a-2a7b65bf5b1d",
   "metadata": {},
   "outputs": [],
   "source": []
  }
 ],
 "metadata": {
  "kernelspec": {
   "display_name": "Python 3",
   "language": "python",
   "name": "python3"
  },
  "language_info": {
   "codemirror_mode": {
    "name": "ipython",
    "version": 3
   },
   "file_extension": ".py",
   "mimetype": "text/x-python",
   "name": "python",
   "nbconvert_exporter": "python",
   "pygments_lexer": "ipython3",
   "version": "3.8.8"
  }
 },
 "nbformat": 4,
 "nbformat_minor": 5
}
